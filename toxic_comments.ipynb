{
 "cells": [
  {
   "cell_type": "markdown",
   "metadata": {},
   "source": [
    "# Проект для «Викишоп»"
   ]
  },
  {
   "cell_type": "markdown",
   "metadata": {},
   "source": [
    "Интернет-магазин «Викишоп» запускает новый сервис. Теперь пользователи могут редактировать и дополнять описания товаров, как в вики-сообществах. То есть клиенты предлагают свои правки и комментируют изменения других. Магазину нужен инструмент, который будет искать токсичные комментарии и отправлять их на модерацию. \n",
    "\n",
    "Необходимо обучить модель классифицировать комментарии на позитивные и негативные. В нашем распоряжении набор данных с разметкой о токсичности правок.\n",
    "\n",
    "Данные находятся в файле `toxic_comments.csv`. Столбец *text* в нём содержит текст комментария, а *toxic* — целевой признак."
   ]
  },
  {
   "cell_type": "markdown",
   "metadata": {},
   "source": [
    "## Подготовка"
   ]
  },
  {
   "cell_type": "code",
   "execution_count": 33,
   "metadata": {},
   "outputs": [],
   "source": [
    "import pandas as pd\n",
    "import numpy as np\n",
    "import nltk\n",
    "from nltk.corpus import stopwords\n",
    "from nltk.corpus import wordnet\n",
    "from nltk.stem import WordNetLemmatizer\n",
    "import re\n",
    "from sklearn.feature_extraction.text import TfidfVectorizer\n",
    "from sklearn.model_selection import train_test_split\n",
    "from sklearn.linear_model import LogisticRegression\n",
    "from sklearn.ensemble import RandomForestClassifier\n",
    "import lightgbm as lgb\n",
    "from sklearn.model_selection import GridSearchCV\n",
    "from sklearn.metrics import f1_score\n",
    "from nltk.probability import FreqDist\n",
    "import matplotlib.pyplot as plt\n",
    "from sklearn.pipeline import Pipeline"
   ]
  },
  {
   "cell_type": "markdown",
   "metadata": {},
   "source": [
    "### Знакомство с данными."
   ]
  },
  {
   "cell_type": "code",
   "execution_count": 34,
   "metadata": {},
   "outputs": [],
   "source": [
    "data = pd.read_csv('/datasets/toxic_comments.csv')"
   ]
  },
  {
   "cell_type": "code",
   "execution_count": 35,
   "metadata": {},
   "outputs": [
    {
     "name": "stdout",
     "output_type": "stream",
     "text": [
      "<class 'pandas.core.frame.DataFrame'>\n",
      "RangeIndex: 159292 entries, 0 to 159291\n",
      "Data columns (total 3 columns):\n",
      " #   Column      Non-Null Count   Dtype \n",
      "---  ------      --------------   ----- \n",
      " 0   Unnamed: 0  159292 non-null  int64 \n",
      " 1   text        159292 non-null  object\n",
      " 2   toxic       159292 non-null  int64 \n",
      "dtypes: int64(2), object(1)\n",
      "memory usage: 3.6+ MB\n"
     ]
    }
   ],
   "source": [
    "data.info()"
   ]
  },
  {
   "cell_type": "code",
   "execution_count": 36,
   "metadata": {},
   "outputs": [
    {
     "data": {
      "text/html": [
       "<div>\n",
       "<style scoped>\n",
       "    .dataframe tbody tr th:only-of-type {\n",
       "        vertical-align: middle;\n",
       "    }\n",
       "\n",
       "    .dataframe tbody tr th {\n",
       "        vertical-align: top;\n",
       "    }\n",
       "\n",
       "    .dataframe thead th {\n",
       "        text-align: right;\n",
       "    }\n",
       "</style>\n",
       "<table border=\"1\" class=\"dataframe\">\n",
       "  <thead>\n",
       "    <tr style=\"text-align: right;\">\n",
       "      <th></th>\n",
       "      <th>Unnamed: 0</th>\n",
       "      <th>text</th>\n",
       "      <th>toxic</th>\n",
       "    </tr>\n",
       "  </thead>\n",
       "  <tbody>\n",
       "    <tr>\n",
       "      <th>0</th>\n",
       "      <td>0</td>\n",
       "      <td>Explanation\\nWhy the edits made under my usern...</td>\n",
       "      <td>0</td>\n",
       "    </tr>\n",
       "    <tr>\n",
       "      <th>1</th>\n",
       "      <td>1</td>\n",
       "      <td>D'aww! He matches this background colour I'm s...</td>\n",
       "      <td>0</td>\n",
       "    </tr>\n",
       "    <tr>\n",
       "      <th>2</th>\n",
       "      <td>2</td>\n",
       "      <td>Hey man, I'm really not trying to edit war. It...</td>\n",
       "      <td>0</td>\n",
       "    </tr>\n",
       "    <tr>\n",
       "      <th>3</th>\n",
       "      <td>3</td>\n",
       "      <td>\"\\nMore\\nI can't make any real suggestions on ...</td>\n",
       "      <td>0</td>\n",
       "    </tr>\n",
       "    <tr>\n",
       "      <th>4</th>\n",
       "      <td>4</td>\n",
       "      <td>You, sir, are my hero. Any chance you remember...</td>\n",
       "      <td>0</td>\n",
       "    </tr>\n",
       "  </tbody>\n",
       "</table>\n",
       "</div>"
      ],
      "text/plain": [
       "   Unnamed: 0                                               text  toxic\n",
       "0           0  Explanation\\nWhy the edits made under my usern...      0\n",
       "1           1  D'aww! He matches this background colour I'm s...      0\n",
       "2           2  Hey man, I'm really not trying to edit war. It...      0\n",
       "3           3  \"\\nMore\\nI can't make any real suggestions on ...      0\n",
       "4           4  You, sir, are my hero. Any chance you remember...      0"
      ]
     },
     "execution_count": 36,
     "metadata": {},
     "output_type": "execute_result"
    }
   ],
   "source": [
    "data.head()"
   ]
  },
  {
   "cell_type": "code",
   "execution_count": 37,
   "metadata": {},
   "outputs": [
    {
     "data": {
      "text/html": [
       "<div>\n",
       "<style scoped>\n",
       "    .dataframe tbody tr th:only-of-type {\n",
       "        vertical-align: middle;\n",
       "    }\n",
       "\n",
       "    .dataframe tbody tr th {\n",
       "        vertical-align: top;\n",
       "    }\n",
       "\n",
       "    .dataframe thead th {\n",
       "        text-align: right;\n",
       "    }\n",
       "</style>\n",
       "<table border=\"1\" class=\"dataframe\">\n",
       "  <thead>\n",
       "    <tr style=\"text-align: right;\">\n",
       "      <th></th>\n",
       "      <th>Unnamed: 0</th>\n",
       "      <th>text</th>\n",
       "      <th>toxic</th>\n",
       "    </tr>\n",
       "  </thead>\n",
       "  <tbody>\n",
       "    <tr>\n",
       "      <th>98825</th>\n",
       "      <td>98921</td>\n",
       "      <td>im sorry it wont happen again</td>\n",
       "      <td>0</td>\n",
       "    </tr>\n",
       "    <tr>\n",
       "      <th>20748</th>\n",
       "      <td>20768</td>\n",
       "      <td>Sysop rights \\n\\nI noticed the discussion of y...</td>\n",
       "      <td>0</td>\n",
       "    </tr>\n",
       "    <tr>\n",
       "      <th>120853</th>\n",
       "      <td>120958</td>\n",
       "      <td>\"\\n\\nI agree. I've moved the whole thing to  i...</td>\n",
       "      <td>0</td>\n",
       "    </tr>\n",
       "    <tr>\n",
       "      <th>109179</th>\n",
       "      <td>109276</td>\n",
       "      <td>i am sorry to disturb you but you are the only...</td>\n",
       "      <td>0</td>\n",
       "    </tr>\n",
       "    <tr>\n",
       "      <th>19791</th>\n",
       "      <td>19811</td>\n",
       "      <td>\"\\nArniep: My areas of interest and work are i...</td>\n",
       "      <td>0</td>\n",
       "    </tr>\n",
       "  </tbody>\n",
       "</table>\n",
       "</div>"
      ],
      "text/plain": [
       "        Unnamed: 0                                               text  toxic\n",
       "98825        98921                      im sorry it wont happen again      0\n",
       "20748        20768  Sysop rights \\n\\nI noticed the discussion of y...      0\n",
       "120853      120958  \"\\n\\nI agree. I've moved the whole thing to  i...      0\n",
       "109179      109276  i am sorry to disturb you but you are the only...      0\n",
       "19791        19811  \"\\nArniep: My areas of interest and work are i...      0"
      ]
     },
     "execution_count": 37,
     "metadata": {},
     "output_type": "execute_result"
    }
   ],
   "source": [
    "data.sample(5)"
   ]
  },
  {
   "cell_type": "markdown",
   "metadata": {},
   "source": [
    "Нам предоставленны данные на английском языке. Колонка `Unnamed: 0` неинформативна, избавимся от нее."
   ]
  },
  {
   "cell_type": "code",
   "execution_count": 38,
   "metadata": {},
   "outputs": [],
   "source": [
    "data.drop('Unnamed: 0', axis='columns', inplace=True)"
   ]
  },
  {
   "cell_type": "code",
   "execution_count": 39,
   "metadata": {},
   "outputs": [
    {
     "data": {
      "text/plain": [
       "0"
      ]
     },
     "execution_count": 39,
     "metadata": {},
     "output_type": "execute_result"
    }
   ],
   "source": [
    "data['text'].duplicated().sum()"
   ]
  },
  {
   "cell_type": "markdown",
   "metadata": {},
   "source": [
    "Повторяющихся текстов в данных не обнаружено."
   ]
  },
  {
   "cell_type": "markdown",
   "metadata": {},
   "source": [
    "Проверим целевой признак на баланс классов."
   ]
  },
  {
   "cell_type": "code",
   "execution_count": 40,
   "metadata": {},
   "outputs": [
    {
     "data": {
      "text/plain": [
       "143106"
      ]
     },
     "execution_count": 40,
     "metadata": {},
     "output_type": "execute_result"
    }
   ],
   "source": [
    "len(data[data['toxic'] == 0])"
   ]
  },
  {
   "cell_type": "code",
   "execution_count": 41,
   "metadata": {},
   "outputs": [
    {
     "data": {
      "text/plain": [
       "16186"
      ]
     },
     "execution_count": 41,
     "metadata": {},
     "output_type": "execute_result"
    }
   ],
   "source": [
    "len(data[data['toxic'] == 1])"
   ]
  },
  {
   "cell_type": "markdown",
   "metadata": {},
   "source": [
    "Количество \"нетоксичных\" комментариев практически в 10 раз превышает количество токсичных. Учтем это при построении модели."
   ]
  },
  {
   "cell_type": "markdown",
   "metadata": {},
   "source": [
    "### Предобработка текста."
   ]
  },
  {
   "cell_type": "markdown",
   "metadata": {},
   "source": [
    "Для построения модели и дальнейшей работы с данными, нам необходимо привести их в векторное представление. Прежде всего текст необходимо токенизировать - разбить текст на отдельные слова и избавиться от ненужных символов, а затем лемматизировать - привести слова к их изначальной форме."
   ]
  },
  {
   "cell_type": "code",
   "execution_count": 42,
   "metadata": {},
   "outputs": [
    {
     "name": "stderr",
     "output_type": "stream",
     "text": [
      "[nltk_data] Downloading package wordnet to /home/jovyan/nltk_data...\n",
      "[nltk_data]   Package wordnet is already up-to-date!\n",
      "[nltk_data] Downloading package punkt to /home/jovyan/nltk_data...\n",
      "[nltk_data]   Package punkt is already up-to-date!\n",
      "[nltk_data] Downloading package omw-1.4 to /home/jovyan/nltk_data...\n",
      "[nltk_data]   Package omw-1.4 is already up-to-date!\n",
      "[nltk_data] Downloading package stopwords to /home/jovyan/nltk_data...\n",
      "[nltk_data]   Package stopwords is already up-to-date!\n",
      "[nltk_data] Downloading package averaged_perceptron_tagger to\n",
      "[nltk_data]     /home/jovyan/nltk_data...\n",
      "[nltk_data]   Package averaged_perceptron_tagger is already up-to-\n",
      "[nltk_data]       date!\n"
     ]
    },
    {
     "data": {
      "text/plain": [
       "True"
      ]
     },
     "execution_count": 42,
     "metadata": {},
     "output_type": "execute_result"
    }
   ],
   "source": [
    "nltk.download('wordnet')\n",
    "nltk.download('punkt')\n",
    "nltk.download('omw-1.4')\n",
    "nltk.download('stopwords')\n",
    "nltk.download('averaged_perceptron_tagger')"
   ]
  },
  {
   "cell_type": "code",
   "execution_count": 43,
   "metadata": {},
   "outputs": [
    {
     "name": "stdout",
     "output_type": "stream",
     "text": [
      "CPU times: user 19min 9s, sys: 1min 53s, total: 21min 2s\n",
      "Wall time: 21min 11s\n"
     ]
    }
   ],
   "source": [
    "%%time\n",
    "\n",
    "lemmatizer = WordNetLemmatizer()\n",
    "stop_words = set(stopwords.words('english'))\n",
    "\n",
    "text_df = data['text'].transform(lambda x: re.sub(r\"[^A-Za-z']\", ' ', x))\n",
    "text_df = text_df.transform(lambda x: ' '.join(x.split()))\n",
    "tokens = text_df.transform(lambda x: nltk.word_tokenize(x))\n",
    "\n",
    "def get_wordnet_pos(word):\n",
    "    tag = nltk.pos_tag([word])[0][1][0].upper()\n",
    "    tag_dict = {\"J\": wordnet.ADJ,\n",
    "                \"N\": wordnet.NOUN,\n",
    "                \"V\": wordnet.VERB,\n",
    "                \"R\": wordnet.ADV}\n",
    "    return tag_dict.get(tag, wordnet.NOUN)\n",
    "\n",
    "\n",
    "lemmatized_tokens = tokens.transform(lambda x: ' '.join([lemmatizer.lemmatize(token, get_wordnet_pos(token)) for token in x]))\n",
    "corpus = lemmatized_tokens.values\n",
    "\n",
    "# CPU times: user 16min 11s, sys: 1min 40s, total: 17min 52s\n",
    "# Wall time: 17min 54s"
   ]
  },
  {
   "cell_type": "markdown",
   "metadata": {},
   "source": [
    "  "
   ]
  },
  {
   "cell_type": "markdown",
   "metadata": {},
   "source": [
    "Посмотрим на график с наиболее часто используемыми словами."
   ]
  },
  {
   "cell_type": "code",
   "execution_count": 44,
   "metadata": {},
   "outputs": [],
   "source": [
    "list_words = []\n",
    "lemmatized_tokens.apply(lambda x: [list_words.append(i) for i in x.split()])\n",
    "\n",
    "fdist = FreqDist([word for word in list_words if word not in stop_words])"
   ]
  },
  {
   "cell_type": "code",
   "execution_count": 45,
   "metadata": {
    "scrolled": true
   },
   "outputs": [
    {
     "data": {
      "image/png": "[encoded data removed]",
      "text/plain": [
       "<Figure size 1080x288 with 1 Axes>"
      ]
     },
     "metadata": {
      "needs_background": "light"
     },
     "output_type": "display_data"
    }
   ],
   "source": [
    "plt.figure(figsize=(15, 4))\n",
    "fdist.plot(50,cumulative=False)\n",
    "plt.show()"
   ]
  },
  {
   "cell_type": "markdown",
   "metadata": {},
   "source": [
    "------"
   ]
  },
  {
   "cell_type": "markdown",
   "metadata": {},
   "source": [
    "Подготовим признаки на основе оценки важности слов TF-IDF для дальнейшего обучения модели на основе полученного корпуса."
   ]
  },
  {
   "cell_type": "code",
   "execution_count": 14,
   "metadata": {},
   "outputs": [],
   "source": [
    "count_tf_idf = TfidfVectorizer(stop_words=stop_words)"
   ]
  },
  {
   "cell_type": "markdown",
   "metadata": {},
   "source": [
    "Разделим полученные данные на обучающую и тестовую выборки."
   ]
  },
  {
   "cell_type": "code",
   "execution_count": 15,
   "metadata": {},
   "outputs": [],
   "source": [
    "target = data['toxic']"
   ]
  },
  {
   "cell_type": "code",
   "execution_count": 16,
   "metadata": {},
   "outputs": [],
   "source": [
    "features_train, features_test, target_train, target_test = train_test_split(corpus, target,\n",
    "                                                                            test_size=0.25, \n",
    "                                                                            stratify=target, \n",
    "                                                                            random_state=123)"
   ]
  },
  {
   "cell_type": "markdown",
   "metadata": {},
   "source": [
    "Таким образом на этапе подготовки данных, мы токенизировали и лемматизировали текст с помощью лексической базы WordNet, избавились от стоп-слов и ненужных символов, не несущих смысловой нагрузки. Затем мы создали корпус текстов и перевели корпус в векторное представление для дальнейшего обучения модели. \n",
    "\n",
    "В качестве признаков мы решили использовать оценку важности слов TF-IDF.\n",
    "\n",
    "Также мы отдельно создали выборку для теста лучшей модели, выделив ей 25% данных."
   ]
  },
  {
   "cell_type": "markdown",
   "metadata": {},
   "source": [
    "## Обучение"
   ]
  },
  {
   "cell_type": "markdown",
   "metadata": {},
   "source": [
    "### Модель логистической регрессии."
   ]
  },
  {
   "cell_type": "code",
   "execution_count": 18,
   "metadata": {},
   "outputs": [
    {
     "name": "stdout",
     "output_type": "stream",
     "text": [
      "Лучший показатель метрики F1 модели линейной регрессии = 0.7740012614192832\n",
      "Лучшие параметры модели: {'tfidf__ngram_range': (1, 2)}\n",
      "CPU times: user 9min 16s, sys: 7min 59s, total: 17min 16s\n",
      "Wall time: 17min 16s\n"
     ]
    }
   ],
   "source": [
    "%%time\n",
    "\n",
    "text_clf = Pipeline([('tfidf', count_tf_idf),\n",
    "                    ('clf', LogisticRegression(C=10, class_weight='balanced', max_iter=99999, random_state=123))])\n",
    "\n",
    "param_grid = {'tfidf__ngram_range': [(1,1), (1,2)]}\n",
    "\n",
    "lin_grid = GridSearchCV(text_clf, param_grid, scoring='f1', cv=3)\n",
    "lin_grid.fit(features_train, target_train)\n",
    "\n",
    "print('Лучший показатель метрики F1 модели линейной регрессии =', lin_grid.best_score_)\n",
    "print('Лучшие параметры модели:', lin_grid.best_params_)\n",
    "\n",
    "# Лучший показатель метрики F1 модели линейной регрессии = 0.7740012614192832\n",
    "# Лучшие параметры модели: {'tfidf__ngram_range': (1, 2)}\n",
    "# CPU times: user 9min 16s, sys: 7min 59s, total: 17min 16s\n",
    "# Wall time: 17min 16s"
   ]
  },
  {
   "cell_type": "markdown",
   "metadata": {},
   "source": [
    "### Тестирование модели."
   ]
  },
  {
   "cell_type": "markdown",
   "metadata": {},
   "source": [
    "Проверим модель логистической регрессии на тестовой выборке."
   ]
  },
  {
   "cell_type": "code",
   "execution_count": 22,
   "metadata": {},
   "outputs": [
    {
     "name": "stdout",
     "output_type": "stream",
     "text": [
      "Значение метрики F1 на тестовой модели = 0.7824197053851727\n"
     ]
    }
   ],
   "source": [
    "features_test_vectorized = lin_grid.best_estimator_.named_steps['tfidf'].transform(features_test)\n",
    "predictions = lin_grid.best_estimator_.named_steps['clf'].predict(features_test_vectorized)\n",
    "print('Значение метрики F1 на тестовой модели =', f1_score(target_test, predictions))\n",
    "\n",
    "# Значение метрики F1 на тестовой модели = 0.7824197053851727"
   ]
  },
  {
   "cell_type": "markdown",
   "metadata": {},
   "source": [
    "Таким образом, значение F1 линейной модели на тестовой выборке составило 0.78."
   ]
  },
  {
   "cell_type": "markdown",
   "metadata": {},
   "source": [
    "## Выводы"
   ]
  },
  {
   "cell_type": "markdown",
   "metadata": {},
   "source": [
    "Задачей исследования являлось создание модели, способной классифицировать комментарии на позитивные и негативные в новом сервисе со свободным редактированием описания товаров интернет-магазина \"Викишоп\".\n",
    "\n",
    "Нам были предоствлены данные на английском языке с комментариями и размеченным целевым признаком.\n",
    "\n",
    "Для построения модели и дальнейшей работы с данными, нам было необходимо привести их в векторное представление. Текст был токенизирован - разбит на отдельные слова и избавлен от ненужных символов, а затем лемматизирован - слова были приведены к их изначальной форме.\n",
    "\n",
    "Для дальнейшего обучения модели мы подготовили признаки на основе оценки важности слов TF-IDF. Также мы отдельно создали выборку для теста лучшей модели, выделив ей 25% данных.\n",
    "\n",
    "Наилучшей моделью оказалась модель основанная на алгоритме логистической регрессии, со значением метрики F1 = 0.77, что намного превосходит показатель метрики модели случайного леса (F1 = 0.34).\n",
    "\n",
    "Было рассмотрено две модели: модель линейной регрессии и модель случайного леса. Наилучший результат показала модель линейной регрессии со значением метрики F1 на тестовой выборке равным 0.78."
   ]
  }
 ],
 "metadata": {
  "ExecuteTimeLog": [
   {
    "duration": 416,
    "start_time": "2023-01-16T11:50:34.719Z"
   },
   {
    "duration": 2,
    "start_time": "2023-01-16T11:50:53.813Z"
   },
   {
    "duration": 111,
    "start_time": "2023-01-16T11:51:14.599Z"
   },
   {
    "duration": 4096,
    "start_time": "2023-01-16T11:51:33.814Z"
   },
   {
    "duration": 31,
    "start_time": "2023-01-16T11:51:46.033Z"
   },
   {
    "duration": 13,
    "start_time": "2023-01-16T11:52:09.196Z"
   },
   {
    "duration": 13,
    "start_time": "2023-01-16T11:52:35.194Z"
   },
   {
    "duration": 1730,
    "start_time": "2023-01-16T11:54:34.800Z"
   },
   {
    "duration": 11,
    "start_time": "2023-01-16T11:55:16.879Z"
   },
   {
    "duration": 77,
    "start_time": "2023-01-16T11:55:55.852Z"
   },
   {
    "duration": 252,
    "start_time": "2023-01-16T11:56:05.164Z"
   },
   {
    "duration": 225,
    "start_time": "2023-01-16T11:56:09.847Z"
   },
   {
    "duration": 75,
    "start_time": "2023-01-16T11:56:28.134Z"
   },
   {
    "duration": 8,
    "start_time": "2023-01-16T11:57:12.093Z"
   },
   {
    "duration": 17,
    "start_time": "2023-01-16T11:58:37.439Z"
   },
   {
    "duration": 13,
    "start_time": "2023-01-16T11:58:50.639Z"
   },
   {
    "duration": 23,
    "start_time": "2023-01-16T11:59:00.962Z"
   },
   {
    "duration": 14,
    "start_time": "2023-01-16T11:59:06.392Z"
   },
   {
    "duration": 12,
    "start_time": "2023-01-16T11:59:15.308Z"
   },
   {
    "duration": 1978,
    "start_time": "2023-01-16T12:14:54.619Z"
   },
   {
    "duration": 3,
    "start_time": "2023-01-16T12:18:27.612Z"
   },
   {
    "duration": 81,
    "start_time": "2023-01-16T12:20:08.226Z"
   },
   {
    "duration": 15,
    "start_time": "2023-01-16T12:20:34.074Z"
   },
   {
    "duration": 14,
    "start_time": "2023-01-16T12:21:40.601Z"
   },
   {
    "duration": 5,
    "start_time": "2023-01-16T12:22:09.689Z"
   },
   {
    "duration": 4,
    "start_time": "2023-01-16T12:22:41.622Z"
   },
   {
    "duration": 10,
    "start_time": "2023-01-16T12:41:25.904Z"
   },
   {
    "duration": 4,
    "start_time": "2023-01-16T12:41:59.889Z"
   },
   {
    "duration": 356,
    "start_time": "2023-01-16T12:42:46.693Z"
   },
   {
    "duration": 2327,
    "start_time": "2023-01-16T12:48:35.006Z"
   },
   {
    "duration": 3865,
    "start_time": "2023-01-16T12:48:39.729Z"
   },
   {
    "duration": 90447,
    "start_time": "2023-01-16T12:48:52.398Z"
   },
   {
    "duration": 13,
    "start_time": "2023-01-16T12:50:30.404Z"
   },
   {
    "duration": 36084,
    "start_time": "2023-01-16T12:54:16.641Z"
   },
   {
    "duration": 7,
    "start_time": "2023-01-16T13:01:52.250Z"
   },
   {
    "duration": 116,
    "start_time": "2023-01-16T13:06:24.039Z"
   },
   {
    "duration": 3,
    "start_time": "2023-01-16T13:07:03.675Z"
   },
   {
    "duration": 13,
    "start_time": "2023-01-16T13:08:23.482Z"
   },
   {
    "duration": 389,
    "start_time": "2023-01-16T13:13:20.038Z"
   },
   {
    "duration": 7,
    "start_time": "2023-01-16T13:13:32.110Z"
   },
   {
    "duration": 10,
    "start_time": "2023-01-16T13:16:56.772Z"
   },
   {
    "duration": 5,
    "start_time": "2023-01-16T13:17:04.623Z"
   },
   {
    "duration": 4,
    "start_time": "2023-01-16T13:17:24.099Z"
   },
   {
    "duration": 12,
    "start_time": "2023-01-16T13:18:29.096Z"
   },
   {
    "duration": 10,
    "start_time": "2023-01-16T13:18:47.952Z"
   },
   {
    "duration": 3328,
    "start_time": "2023-01-16T13:20:05.699Z"
   },
   {
    "duration": 6,
    "start_time": "2023-01-16T13:20:21.744Z"
   },
   {
    "duration": 329,
    "start_time": "2023-01-16T13:23:29.675Z"
   },
   {
    "duration": 3,
    "start_time": "2023-01-16T13:24:38.771Z"
   },
   {
    "duration": 10,
    "start_time": "2023-01-16T13:24:55.851Z"
   },
   {
    "duration": 664,
    "start_time": "2023-01-16T13:25:45.039Z"
   },
   {
    "duration": 6,
    "start_time": "2023-01-16T13:25:50.994Z"
   },
   {
    "duration": 8,
    "start_time": "2023-01-16T13:28:23.800Z"
   },
   {
    "duration": 1821,
    "start_time": "2023-01-16T13:28:51.579Z"
   },
   {
    "duration": 3623,
    "start_time": "2023-01-16T13:28:56.628Z"
   },
   {
    "duration": 16,
    "start_time": "2023-01-16T13:29:01.062Z"
   },
   {
    "duration": 82884,
    "start_time": "2023-01-16T13:29:29.742Z"
   },
   {
    "duration": 36421,
    "start_time": "2023-01-16T13:31:42.160Z"
   },
   {
    "duration": 12,
    "start_time": "2023-01-16T13:32:22.960Z"
   },
   {
    "duration": 377,
    "start_time": "2023-01-16T13:32:25.668Z"
   },
   {
    "duration": 2963,
    "start_time": "2023-01-16T13:32:26.873Z"
   },
   {
    "duration": 710,
    "start_time": "2023-01-16T13:32:30.489Z"
   },
   {
    "duration": 47,
    "start_time": "2023-01-16T13:32:42.820Z"
   },
   {
    "duration": 3,
    "start_time": "2023-01-16T13:32:56.209Z"
   },
   {
    "duration": 2089,
    "start_time": "2023-01-16T13:34:33.655Z"
   },
   {
    "duration": 3537,
    "start_time": "2023-01-16T13:34:35.746Z"
   },
   {
    "duration": 32,
    "start_time": "2023-01-16T13:34:39.284Z"
   },
   {
    "duration": 21,
    "start_time": "2023-01-16T13:34:39.318Z"
   },
   {
    "duration": 14,
    "start_time": "2023-01-16T13:34:39.341Z"
   },
   {
    "duration": 86,
    "start_time": "2023-01-16T13:34:39.357Z"
   },
   {
    "duration": 21,
    "start_time": "2023-01-16T13:34:39.445Z"
   },
   {
    "duration": 82586,
    "start_time": "2023-01-16T13:34:39.468Z"
   },
   {
    "duration": 35168,
    "start_time": "2023-01-16T13:36:02.055Z"
   },
   {
    "duration": 13,
    "start_time": "2023-01-16T13:36:37.225Z"
   },
   {
    "duration": 364,
    "start_time": "2023-01-16T13:36:37.240Z"
   },
   {
    "duration": 2891,
    "start_time": "2023-01-16T13:36:37.605Z"
   },
   {
    "duration": 673,
    "start_time": "2023-01-16T13:36:40.498Z"
   },
   {
    "duration": 44,
    "start_time": "2023-01-17T02:50:57.601Z"
   },
   {
    "duration": 1171,
    "start_time": "2023-01-17T02:51:09.611Z"
   },
   {
    "duration": 2299,
    "start_time": "2023-01-17T02:51:10.783Z"
   },
   {
    "duration": 29,
    "start_time": "2023-01-17T02:51:13.084Z"
   },
   {
    "duration": 13,
    "start_time": "2023-01-17T02:51:13.115Z"
   },
   {
    "duration": 20,
    "start_time": "2023-01-17T02:51:13.130Z"
   },
   {
    "duration": 74,
    "start_time": "2023-01-17T02:51:13.152Z"
   },
   {
    "duration": 9,
    "start_time": "2023-01-17T02:51:13.228Z"
   },
   {
    "duration": 80148,
    "start_time": "2023-01-17T02:51:13.239Z"
   },
   {
    "duration": 33246,
    "start_time": "2023-01-17T02:52:33.388Z"
   },
   {
    "duration": 12,
    "start_time": "2023-01-17T02:53:06.636Z"
   },
   {
    "duration": 392,
    "start_time": "2023-01-17T02:53:06.649Z"
   },
   {
    "duration": 2986,
    "start_time": "2023-01-17T02:53:07.042Z"
   },
   {
    "duration": 750,
    "start_time": "2023-01-17T02:53:10.030Z"
   },
   {
    "duration": 4,
    "start_time": "2023-01-17T02:53:26.061Z"
   },
   {
    "duration": 4,
    "start_time": "2023-01-17T02:53:42.865Z"
   },
   {
    "duration": 2,
    "start_time": "2023-01-17T02:53:55.337Z"
   },
   {
    "duration": 4,
    "start_time": "2023-01-17T02:57:25.377Z"
   },
   {
    "duration": 3,
    "start_time": "2023-01-17T03:05:43.481Z"
   },
   {
    "duration": 2,
    "start_time": "2023-01-17T03:07:25.007Z"
   },
   {
    "duration": 6183,
    "start_time": "2023-01-17T03:10:27.168Z"
   },
   {
    "duration": 4,
    "start_time": "2023-01-17T03:10:39.352Z"
   },
   {
    "duration": 77,
    "start_time": "2023-01-17T03:11:30.645Z"
   },
   {
    "duration": 9,
    "start_time": "2023-01-17T03:13:27.934Z"
   },
   {
    "duration": 43,
    "start_time": "2023-01-17T03:14:28.407Z"
   },
   {
    "duration": 1241,
    "start_time": "2023-01-17T03:14:58.950Z"
   },
   {
    "duration": 2372,
    "start_time": "2023-01-17T03:15:00.193Z"
   },
   {
    "duration": 32,
    "start_time": "2023-01-17T03:15:02.567Z"
   },
   {
    "duration": 12,
    "start_time": "2023-01-17T03:15:02.601Z"
   },
   {
    "duration": 10,
    "start_time": "2023-01-17T03:15:02.615Z"
   },
   {
    "duration": 80,
    "start_time": "2023-01-17T03:15:02.627Z"
   },
   {
    "duration": 5,
    "start_time": "2023-01-17T03:15:02.709Z"
   },
   {
    "duration": 80218,
    "start_time": "2023-01-17T03:15:02.715Z"
   },
   {
    "duration": 32855,
    "start_time": "2023-01-17T03:16:22.935Z"
   },
   {
    "duration": 5,
    "start_time": "2023-01-17T03:16:55.792Z"
   },
   {
    "duration": 401,
    "start_time": "2023-01-17T03:16:55.798Z"
   },
   {
    "duration": 2956,
    "start_time": "2023-01-17T03:16:56.200Z"
   },
   {
    "duration": 736,
    "start_time": "2023-01-17T03:16:59.157Z"
   },
   {
    "duration": 3,
    "start_time": "2023-01-17T03:16:59.895Z"
   },
   {
    "duration": 10,
    "start_time": "2023-01-17T03:16:59.900Z"
   },
   {
    "duration": 6161,
    "start_time": "2023-01-17T03:16:59.911Z"
   },
   {
    "duration": 1173,
    "start_time": "2023-01-17T03:20:11.196Z"
   },
   {
    "duration": 2301,
    "start_time": "2023-01-17T03:20:12.371Z"
   },
   {
    "duration": 31,
    "start_time": "2023-01-17T03:20:14.674Z"
   },
   {
    "duration": 12,
    "start_time": "2023-01-17T03:20:14.707Z"
   },
   {
    "duration": 15,
    "start_time": "2023-01-17T03:20:14.721Z"
   },
   {
    "duration": 86,
    "start_time": "2023-01-17T03:20:14.738Z"
   },
   {
    "duration": 13,
    "start_time": "2023-01-17T03:20:14.826Z"
   },
   {
    "duration": 80601,
    "start_time": "2023-01-17T03:20:14.841Z"
   },
   {
    "duration": 33349,
    "start_time": "2023-01-17T03:21:35.444Z"
   },
   {
    "duration": 5,
    "start_time": "2023-01-17T03:22:08.795Z"
   },
   {
    "duration": 400,
    "start_time": "2023-01-17T03:22:08.801Z"
   },
   {
    "duration": 2997,
    "start_time": "2023-01-17T03:22:09.202Z"
   },
   {
    "duration": 749,
    "start_time": "2023-01-17T03:22:12.200Z"
   },
   {
    "duration": 2,
    "start_time": "2023-01-17T03:22:12.950Z"
   },
   {
    "duration": 9,
    "start_time": "2023-01-17T03:22:12.954Z"
   },
   {
    "duration": 6007,
    "start_time": "2023-01-17T03:22:12.964Z"
   },
   {
    "duration": 45,
    "start_time": "2023-01-17T03:31:30.640Z"
   },
   {
    "duration": 1275,
    "start_time": "2023-01-17T03:57:44.561Z"
   },
   {
    "duration": 2315,
    "start_time": "2023-01-17T03:57:45.838Z"
   },
   {
    "duration": 26,
    "start_time": "2023-01-17T03:57:48.155Z"
   },
   {
    "duration": 12,
    "start_time": "2023-01-17T03:57:48.184Z"
   },
   {
    "duration": 9,
    "start_time": "2023-01-17T03:57:48.198Z"
   },
   {
    "duration": 82,
    "start_time": "2023-01-17T03:57:48.209Z"
   },
   {
    "duration": 6,
    "start_time": "2023-01-17T03:57:48.293Z"
   },
   {
    "duration": 218,
    "start_time": "2023-01-17T03:57:48.301Z"
   },
   {
    "duration": 81626,
    "start_time": "2023-01-17T03:57:48.520Z"
   },
   {
    "duration": 34670,
    "start_time": "2023-01-17T03:59:10.149Z"
   },
   {
    "duration": 4,
    "start_time": "2023-01-17T03:59:44.821Z"
   },
   {
    "duration": 395,
    "start_time": "2023-01-17T03:59:44.827Z"
   },
   {
    "duration": 3009,
    "start_time": "2023-01-17T03:59:45.225Z"
   },
   {
    "duration": 739,
    "start_time": "2023-01-17T03:59:48.236Z"
   },
   {
    "duration": 2,
    "start_time": "2023-01-17T03:59:48.977Z"
   },
   {
    "duration": 16,
    "start_time": "2023-01-17T03:59:48.980Z"
   },
   {
    "duration": 6011,
    "start_time": "2023-01-17T03:59:48.997Z"
   },
   {
    "duration": 4364,
    "start_time": "2023-01-17T03:59:55.010Z"
   },
   {
    "duration": 3,
    "start_time": "2023-01-17T04:00:38.095Z"
   },
   {
    "duration": 477,
    "start_time": "2023-01-17T04:00:43.491Z"
   },
   {
    "duration": 6,
    "start_time": "2023-01-17T04:00:55.546Z"
   },
   {
    "duration": 2,
    "start_time": "2023-01-17T04:04:17.990Z"
   },
   {
    "duration": 4,
    "start_time": "2023-01-17T04:05:18.590Z"
   },
   {
    "duration": 485288,
    "start_time": "2023-01-17T04:06:36.065Z"
   },
   {
    "duration": 4,
    "start_time": "2023-01-17T04:24:07.598Z"
   },
   {
    "duration": 4,
    "start_time": "2023-01-17T04:25:53.363Z"
   },
   {
    "duration": 117,
    "start_time": "2023-01-17T04:40:02.867Z"
   },
   {
    "duration": 9305,
    "start_time": "2023-01-17T04:40:09.424Z"
   },
   {
    "duration": 625487,
    "start_time": "2023-01-17T04:40:41.710Z"
   },
   {
    "duration": 622207,
    "start_time": "2023-01-17T04:51:34.350Z"
   },
   {
    "duration": 17,
    "start_time": "2023-01-17T05:25:21.841Z"
   },
   {
    "duration": 7,
    "start_time": "2023-01-17T05:25:27.965Z"
   },
   {
    "duration": 16,
    "start_time": "2023-01-17T05:26:11.274Z"
   },
   {
    "duration": 7,
    "start_time": "2023-01-17T05:26:20.813Z"
   },
   {
    "duration": 7,
    "start_time": "2023-01-17T05:58:37.270Z"
   },
   {
    "duration": 5,
    "start_time": "2023-01-17T05:58:48.929Z"
   },
   {
    "duration": 7,
    "start_time": "2023-01-17T05:59:04.117Z"
   },
   {
    "duration": 507829,
    "start_time": "2023-01-17T06:40:51.585Z"
   },
   {
    "duration": 7696199,
    "start_time": "2023-01-17T06:50:32.149Z"
   },
   {
    "duration": 7,
    "start_time": "2023-01-17T09:33:20.926Z"
   },
   {
    "duration": 1345,
    "start_time": "2023-01-17T10:38:28.575Z"
   },
   {
    "duration": 2352,
    "start_time": "2023-01-17T10:38:29.922Z"
   },
   {
    "duration": 31,
    "start_time": "2023-01-17T10:38:32.276Z"
   },
   {
    "duration": 13,
    "start_time": "2023-01-17T10:38:32.308Z"
   },
   {
    "duration": 10,
    "start_time": "2023-01-17T10:38:32.323Z"
   },
   {
    "duration": 78,
    "start_time": "2023-01-17T10:38:32.334Z"
   },
   {
    "duration": 22,
    "start_time": "2023-01-17T10:38:32.414Z"
   },
   {
    "duration": 15,
    "start_time": "2023-01-17T10:38:32.437Z"
   },
   {
    "duration": 11,
    "start_time": "2023-01-17T10:38:32.453Z"
   },
   {
    "duration": 220,
    "start_time": "2023-01-17T10:38:32.465Z"
   },
   {
    "duration": 83629,
    "start_time": "2023-01-17T10:38:32.687Z"
   },
   {
    "duration": 35031,
    "start_time": "2023-01-17T10:39:56.318Z"
   },
   {
    "duration": 5,
    "start_time": "2023-01-17T10:40:31.350Z"
   },
   {
    "duration": 383,
    "start_time": "2023-01-17T10:40:31.357Z"
   },
   {
    "duration": 3131,
    "start_time": "2023-01-17T10:40:31.742Z"
   },
   {
    "duration": 774,
    "start_time": "2023-01-17T10:40:34.875Z"
   },
   {
    "duration": 3,
    "start_time": "2023-01-17T10:40:35.651Z"
   },
   {
    "duration": 17,
    "start_time": "2023-01-17T10:40:35.656Z"
   },
   {
    "duration": 6450,
    "start_time": "2023-01-17T10:40:35.675Z"
   },
   {
    "duration": 4666,
    "start_time": "2023-01-17T10:40:42.126Z"
   },
   {
    "duration": 3,
    "start_time": "2023-01-17T10:40:46.793Z"
   },
   {
    "duration": 487922,
    "start_time": "2023-01-17T10:40:46.797Z"
   },
   {
    "duration": 172807,
    "start_time": "2023-01-17T11:37:23.430Z"
   },
   {
    "duration": 6,
    "start_time": "2023-01-17T11:46:14.873Z"
   },
   {
    "duration": 6,
    "start_time": "2023-01-17T11:47:13.577Z"
   },
   {
    "duration": 8,
    "start_time": "2023-01-17T11:47:54.439Z"
   },
   {
    "duration": 4,
    "start_time": "2023-01-17T11:50:31.958Z"
   },
   {
    "duration": 3,
    "start_time": "2023-01-17T11:51:26.351Z"
   },
   {
    "duration": 5,
    "start_time": "2023-01-17T11:52:00.976Z"
   },
   {
    "duration": 4,
    "start_time": "2023-01-17T11:52:14.519Z"
   },
   {
    "duration": 55,
    "start_time": "2023-01-18T03:48:12.909Z"
   },
   {
    "duration": 1531,
    "start_time": "2023-01-18T03:48:18.888Z"
   },
   {
    "duration": 3620,
    "start_time": "2023-01-18T03:48:22.426Z"
   },
   {
    "duration": 21,
    "start_time": "2023-01-18T03:48:31.702Z"
   },
   {
    "duration": 9,
    "start_time": "2023-01-18T03:48:39.709Z"
   },
   {
    "duration": 7,
    "start_time": "2023-01-18T03:48:53.427Z"
   },
   {
    "duration": 8,
    "start_time": "2023-01-18T03:49:03.077Z"
   },
   {
    "duration": 14,
    "start_time": "2023-01-18T03:49:10.113Z"
   },
   {
    "duration": 8,
    "start_time": "2023-01-18T03:49:21.269Z"
   },
   {
    "duration": 11,
    "start_time": "2023-01-18T03:49:41.377Z"
   },
   {
    "duration": 8,
    "start_time": "2023-01-18T03:50:04.181Z"
   },
   {
    "duration": 9,
    "start_time": "2023-01-18T04:13:12.982Z"
   },
   {
    "duration": 94,
    "start_time": "2023-01-18T04:13:13.996Z"
   },
   {
    "duration": 4,
    "start_time": "2023-01-18T04:13:19.695Z"
   },
   {
    "duration": 881,
    "start_time": "2023-01-18T04:13:20.840Z"
   },
   {
    "duration": 37,
    "start_time": "2023-01-18T04:13:24.244Z"
   },
   {
    "duration": 7,
    "start_time": "2023-01-18T04:13:26.675Z"
   },
   {
    "duration": 13,
    "start_time": "2023-01-18T04:13:27.492Z"
   },
   {
    "duration": 12,
    "start_time": "2023-01-18T04:13:31.051Z"
   },
   {
    "duration": 77,
    "start_time": "2023-01-18T04:13:33.828Z"
   },
   {
    "duration": 37,
    "start_time": "2023-01-18T04:13:35.542Z"
   },
   {
    "duration": 8,
    "start_time": "2023-01-18T04:13:36.095Z"
   },
   {
    "duration": 11,
    "start_time": "2023-01-18T04:14:43.280Z"
   },
   {
    "duration": 16,
    "start_time": "2023-01-18T04:14:52.513Z"
   },
   {
    "duration": 4,
    "start_time": "2023-01-18T04:15:12.489Z"
   },
   {
    "duration": 2960,
    "start_time": "2023-01-18T05:01:23.714Z"
   },
   {
    "duration": 52545,
    "start_time": "2023-01-18T05:01:34.905Z"
   },
   {
    "duration": 1443,
    "start_time": "2023-01-18T05:06:25.179Z"
   },
   {
    "duration": 821,
    "start_time": "2023-01-18T05:06:26.624Z"
   },
   {
    "duration": 32,
    "start_time": "2023-01-18T05:06:27.447Z"
   },
   {
    "duration": 14,
    "start_time": "2023-01-18T05:06:27.481Z"
   },
   {
    "duration": 30,
    "start_time": "2023-01-18T05:06:27.496Z"
   },
   {
    "duration": 11,
    "start_time": "2023-01-18T05:06:27.528Z"
   },
   {
    "duration": 92,
    "start_time": "2023-01-18T05:06:27.540Z"
   },
   {
    "duration": 21,
    "start_time": "2023-01-18T05:06:27.633Z"
   },
   {
    "duration": 7,
    "start_time": "2023-01-18T05:06:27.656Z"
   },
   {
    "duration": 264,
    "start_time": "2023-01-18T05:06:27.665Z"
   },
   {
    "duration": 1069173,
    "start_time": "2023-01-18T05:06:27.930Z"
   },
   {
    "duration": 5,
    "start_time": "2023-01-18T05:31:58.695Z"
   },
   {
    "duration": 12,
    "start_time": "2023-01-18T05:32:35.518Z"
   },
   {
    "duration": 109,
    "start_time": "2023-01-18T05:47:16.048Z"
   },
   {
    "duration": 6,
    "start_time": "2023-01-18T06:12:10.185Z"
   },
   {
    "duration": 4,
    "start_time": "2023-01-18T06:31:22.921Z"
   },
   {
    "duration": 22516,
    "start_time": "2023-01-18T07:00:21.366Z"
   },
   {
    "duration": 656,
    "start_time": "2023-01-18T07:01:10.006Z"
   },
   {
    "duration": 12,
    "start_time": "2023-01-18T07:01:43.576Z"
   },
   {
    "duration": 6,
    "start_time": "2023-01-18T07:02:13.751Z"
   },
   {
    "duration": 7155,
    "start_time": "2023-01-18T07:02:47.698Z"
   },
   {
    "duration": 254,
    "start_time": "2023-01-18T07:03:01.650Z"
   },
   {
    "duration": 291,
    "start_time": "2023-01-18T07:04:38.742Z"
   },
   {
    "duration": 168,
    "start_time": "2023-01-18T07:05:38.412Z"
   },
   {
    "duration": 262,
    "start_time": "2023-01-18T07:05:49.431Z"
   },
   {
    "duration": 280,
    "start_time": "2023-01-18T07:06:31.774Z"
   },
   {
    "duration": 4,
    "start_time": "2023-01-18T07:06:57.667Z"
   },
   {
    "duration": 253,
    "start_time": "2023-01-18T07:07:03.492Z"
   },
   {
    "duration": 162,
    "start_time": "2023-01-18T07:07:17.147Z"
   },
   {
    "duration": 242,
    "start_time": "2023-01-18T07:07:29.624Z"
   },
   {
    "duration": 10,
    "start_time": "2023-01-18T07:08:10.119Z"
   },
   {
    "duration": 11,
    "start_time": "2023-01-18T07:08:15.089Z"
   },
   {
    "duration": 263,
    "start_time": "2023-01-18T07:08:31.608Z"
   },
   {
    "duration": 262,
    "start_time": "2023-01-18T07:08:38.540Z"
   },
   {
    "duration": 459,
    "start_time": "2023-01-18T09:21:36.212Z"
   },
   {
    "duration": 2054,
    "start_time": "2023-01-18T09:21:46.213Z"
   },
   {
    "duration": 470,
    "start_time": "2023-01-18T09:22:01.527Z"
   },
   {
    "duration": 498,
    "start_time": "2023-01-18T09:22:38.559Z"
   },
   {
    "duration": 182,
    "start_time": "2023-01-18T09:23:21.096Z"
   },
   {
    "duration": 570,
    "start_time": "2023-01-18T09:23:41.172Z"
   },
   {
    "duration": 467,
    "start_time": "2023-01-18T09:23:47.562Z"
   },
   {
    "duration": 483,
    "start_time": "2023-01-18T09:24:02.267Z"
   },
   {
    "duration": 81,
    "start_time": "2023-01-18T09:32:01.296Z"
   },
   {
    "duration": 3,
    "start_time": "2023-01-18T09:32:22.470Z"
   },
   {
    "duration": 54,
    "start_time": "2023-01-18T09:32:29.183Z"
   },
   {
    "duration": 4,
    "start_time": "2023-01-18T09:32:41.199Z"
   },
   {
    "duration": 4,
    "start_time": "2023-01-18T09:32:47.879Z"
   },
   {
    "duration": 4,
    "start_time": "2023-01-18T09:33:03.371Z"
   },
   {
    "duration": 4,
    "start_time": "2023-01-18T09:33:07.983Z"
   },
   {
    "duration": 79,
    "start_time": "2023-01-18T09:34:53.997Z"
   },
   {
    "duration": 6,
    "start_time": "2023-01-18T09:35:01.096Z"
   },
   {
    "duration": 3,
    "start_time": "2023-01-18T09:42:52.131Z"
   },
   {
    "duration": 3,
    "start_time": "2023-01-18T11:30:29.547Z"
   },
   {
    "duration": 1572,
    "start_time": "2023-01-18T13:00:07.556Z"
   },
   {
    "duration": 3305,
    "start_time": "2023-01-18T13:00:09.130Z"
   },
   {
    "duration": 30,
    "start_time": "2023-01-18T13:00:12.437Z"
   },
   {
    "duration": 10,
    "start_time": "2023-01-18T13:00:12.469Z"
   },
   {
    "duration": 24,
    "start_time": "2023-01-18T13:00:12.481Z"
   },
   {
    "duration": 15,
    "start_time": "2023-01-18T13:00:12.507Z"
   },
   {
    "duration": 81,
    "start_time": "2023-01-18T13:00:12.523Z"
   },
   {
    "duration": 26,
    "start_time": "2023-01-18T13:00:12.605Z"
   },
   {
    "duration": 7,
    "start_time": "2023-01-18T13:00:12.632Z"
   },
   {
    "duration": 702,
    "start_time": "2023-01-18T13:00:12.641Z"
   },
   {
    "duration": 1074140,
    "start_time": "2023-01-18T13:00:13.345Z"
   },
   {
    "duration": 7413,
    "start_time": "2023-01-18T13:18:07.487Z"
   },
   {
    "duration": 496,
    "start_time": "2023-01-18T13:18:14.901Z"
   },
   {
    "duration": 2,
    "start_time": "2023-01-18T13:18:15.400Z"
   },
   {
    "duration": 37,
    "start_time": "2023-01-18T13:18:15.404Z"
   },
   {
    "duration": 79,
    "start_time": "2023-01-18T13:18:15.443Z"
   },
   {
    "duration": 104670,
    "start_time": "2023-01-18T13:25:39.959Z"
   },
   {
    "duration": 1036988,
    "start_time": "2023-01-18T13:29:03.955Z"
   },
   {
    "duration": 3691,
    "start_time": "2023-01-18T14:03:49.442Z"
   },
   {
    "duration": 16,
    "start_time": "2023-01-18T14:06:08.825Z"
   },
   {
    "duration": 21,
    "start_time": "2023-01-18T14:06:36.891Z"
   },
   {
    "duration": 3728,
    "start_time": "2023-01-18T14:07:00.426Z"
   },
   {
    "duration": 136,
    "start_time": "2023-01-18T14:07:57.812Z"
   },
   {
    "duration": 4840,
    "start_time": "2023-01-18T17:17:34.398Z"
   },
   {
    "duration": 3412,
    "start_time": "2023-01-18T17:17:39.239Z"
   },
   {
    "duration": 36,
    "start_time": "2023-01-18T17:17:42.653Z"
   },
   {
    "duration": 12,
    "start_time": "2023-01-18T17:17:42.692Z"
   },
   {
    "duration": 14,
    "start_time": "2023-01-18T17:17:42.706Z"
   },
   {
    "duration": 19,
    "start_time": "2023-01-18T17:17:42.722Z"
   },
   {
    "duration": 116,
    "start_time": "2023-01-18T17:17:42.743Z"
   },
   {
    "duration": 27,
    "start_time": "2023-01-18T17:17:42.861Z"
   },
   {
    "duration": 8,
    "start_time": "2023-01-18T17:17:42.890Z"
   },
   {
    "duration": 2479,
    "start_time": "2023-01-18T17:17:42.900Z"
   },
   {
    "duration": 2746,
    "start_time": "2023-01-18T18:09:02.676Z"
   },
   {
    "duration": 3646,
    "start_time": "2023-01-18T18:09:05.424Z"
   },
   {
    "duration": 41,
    "start_time": "2023-01-18T18:09:09.072Z"
   },
   {
    "duration": 12,
    "start_time": "2023-01-18T18:09:09.115Z"
   },
   {
    "duration": 14,
    "start_time": "2023-01-18T18:09:09.129Z"
   },
   {
    "duration": 129,
    "start_time": "2023-01-18T18:09:09.145Z"
   },
   {
    "duration": 90,
    "start_time": "2023-01-18T18:09:09.276Z"
   },
   {
    "duration": 24,
    "start_time": "2023-01-18T18:09:09.639Z"
   },
   {
    "duration": 10,
    "start_time": "2023-01-18T18:09:09.861Z"
   },
   {
    "duration": 668,
    "start_time": "2023-01-18T18:09:12.148Z"
   },
   {
    "duration": 60635,
    "start_time": "2023-01-18T18:09:18.582Z"
   },
   {
    "duration": 5,
    "start_time": "2023-01-18T18:10:19.220Z"
   },
   {
    "duration": 5,
    "start_time": "2023-01-18T18:10:23.693Z"
   },
   {
    "duration": 2465,
    "start_time": "2023-01-18T18:10:24.678Z"
   },
   {
    "duration": 8,
    "start_time": "2023-01-18T18:10:41.681Z"
   },
   {
    "duration": 60,
    "start_time": "2023-01-18T18:11:11.659Z"
   },
   {
    "duration": 7,
    "start_time": "2023-01-18T18:11:26.550Z"
   },
   {
    "duration": 6,
    "start_time": "2023-01-18T18:11:37.863Z"
   },
   {
    "duration": 5,
    "start_time": "2023-01-18T18:11:45.224Z"
   },
   {
    "duration": 5,
    "start_time": "2023-01-18T18:11:50.680Z"
   },
   {
    "duration": 16,
    "start_time": "2023-01-18T18:12:42.382Z"
   },
   {
    "duration": 4,
    "start_time": "2023-01-18T18:12:47.119Z"
   },
   {
    "duration": 8,
    "start_time": "2023-01-18T18:12:51.961Z"
   },
   {
    "duration": 8,
    "start_time": "2023-01-18T18:12:58.383Z"
   },
   {
    "duration": 7,
    "start_time": "2023-01-18T18:13:07.058Z"
   },
   {
    "duration": 5,
    "start_time": "2023-01-18T18:13:21.074Z"
   },
   {
    "duration": 9,
    "start_time": "2023-01-18T18:13:23.194Z"
   },
   {
    "duration": 17,
    "start_time": "2023-01-18T18:14:22.960Z"
   },
   {
    "duration": 3654,
    "start_time": "2023-01-18T18:16:47.678Z"
   },
   {
    "duration": 3630,
    "start_time": "2023-01-18T18:17:00.385Z"
   },
   {
    "duration": 33,
    "start_time": "2023-01-18T18:38:11.455Z"
   },
   {
    "duration": 994,
    "start_time": "2023-01-18T18:38:11.490Z"
   },
   {
    "duration": 35,
    "start_time": "2023-01-18T18:39:06.242Z"
   },
   {
    "duration": 12,
    "start_time": "2023-01-18T18:39:06.764Z"
   },
   {
    "duration": 16,
    "start_time": "2023-01-18T18:39:07.066Z"
   },
   {
    "duration": 16,
    "start_time": "2023-01-18T18:39:08.690Z"
   },
   {
    "duration": 89,
    "start_time": "2023-01-18T18:39:09.106Z"
   },
   {
    "duration": 19,
    "start_time": "2023-01-18T18:39:10.066Z"
   },
   {
    "duration": 11,
    "start_time": "2023-01-18T18:39:10.491Z"
   },
   {
    "duration": 9,
    "start_time": "2023-01-18T18:39:13.235Z"
   },
   {
    "duration": 1271705,
    "start_time": "2023-01-18T18:39:14.045Z"
   },
   {
    "duration": 8451,
    "start_time": "2023-01-18T19:00:25.753Z"
   },
   {
    "duration": 555,
    "start_time": "2023-01-18T19:00:34.206Z"
   },
   {
    "duration": 50,
    "start_time": "2023-01-18T19:04:22.566Z"
   },
   {
    "duration": 6,
    "start_time": "2023-01-18T19:05:16.999Z"
   },
   {
    "duration": 5986,
    "start_time": "2023-01-18T19:08:18.738Z"
   },
   {
    "duration": 3292,
    "start_time": "2023-01-18T19:08:36.012Z"
   },
   {
    "duration": 3644,
    "start_time": "2023-01-18T19:08:52.327Z"
   },
   {
    "duration": 3486,
    "start_time": "2023-01-18T19:09:02.423Z"
   }
  ],
  "kernelspec": {
   "display_name": "Python 3 (ipykernel)",
   "language": "python",
   "name": "python3"
  },
  "language_info": {
   "codemirror_mode": {
    "name": "ipython",
    "version": 3
   },
   "file_extension": ".py",
   "mimetype": "text/x-python",
   "name": "python",
   "nbconvert_exporter": "python",
   "pygments_lexer": "ipython3",
   "version": "3.9.15"
  },
  "toc": {
   "base_numbering": 1,
   "nav_menu": {},
   "number_sections": true,
   "sideBar": true,
   "skip_h1_title": true,
   "title_cell": "Содержание",
   "title_sidebar": "Contents",
   "toc_cell": true,
   "toc_position": {
    "height": "calc(100% - 180px)",
    "left": "10px",
    "top": "150px",
    "width": "302.391px"
   },
   "toc_section_display": true,
   "toc_window_display": false
  }
 },
 "nbformat": 4,
 "nbformat_minor": 4
}
